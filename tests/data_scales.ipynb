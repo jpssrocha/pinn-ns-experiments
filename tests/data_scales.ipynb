{
 "cells": [
  {
   "cell_type": "markdown",
   "id": "b1094553-85ce-43ec-b5d1-15967b3e3778",
   "metadata": {},
   "source": [
    "# Data scales from simulated data.\n",
    "\n",
    "In this notebook i'll be checking the scales on the simulated data to see which weights i could use for the non-dimensional equations on the physics informed loss so that they balance well."
   ]
  },
  {
   "cell_type": "code",
   "execution_count": 1,
   "id": "dcab143a-fdc0-41c1-919d-92853754ca78",
   "metadata": {},
   "outputs": [],
   "source": [
    "import fluidfoam as ff\n",
    "import numpy as np\n",
    "import matplotlib.pyplot as plt"
   ]
  },
  {
   "cell_type": "code",
   "execution_count": 23,
   "id": "d58560ad-77f1-4a26-9cd0-13cd93a2e038",
   "metadata": {},
   "outputs": [
    {
     "name": "stdout",
     "output_type": "stream",
     "text": [
      "Ra = 1962.0000000000005, Pr = 0.2, Gr = 9810.000000000004\n"
     ]
    }
   ],
   "source": [
    "rho = 1\n",
    "mu = 0.001\n",
    "alpha = 0.005\n",
    "D = 0.1\n",
    "L = D\n",
    "beta = 1.0\n",
    "g = 9.81\n",
    "\n",
    "T0 = 300\n",
    "T_bottom = 301\n",
    "\n",
    "S0 = (T0 - T0)/(T_bottom - T0)\n",
    "S_bottom = (T_bottom - T0)/(T_bottom - T0)\n",
    "\n",
    "\n",
    "assert T_bottom > T0, \"For a Benard cell the bottom temperature should be higher than the rest\"\n",
    "\n",
    "Ra = g*beta*(T_bottom-T0)*D**3*rho/(alpha*mu)\n",
    "Pr = mu/(rho*alpha)\n",
    "Gr = g*beta*(T_bottom - T0)*L**3*rho**2/mu**2\n",
    "print(f\"{Ra = }, {Pr = }, {Gr = }\")"
   ]
  },
  {
   "cell_type": "code",
   "execution_count": 55,
   "id": "abfdebad-c901-4d3f-9f59-fbf8fcbcc466",
   "metadata": {},
   "outputs": [
    {
     "name": "stdout",
     "output_type": "stream",
     "text": [
      "Reading file vizualizing_simulation_data/bernard_cell_of_v2//constant/polyMesh/owner\n",
      "Reading file vizualizing_simulation_data/bernard_cell_of_v2//constant/polyMesh/faces\n",
      "Reading file vizualizing_simulation_data/bernard_cell_of_v2//constant/polyMesh/points\n",
      "Reading file vizualizing_simulation_data/bernard_cell_of_v2//constant/polyMesh/neighbour\n",
      "Reading file vizualizing_simulation_data/bernard_cell_of_v2/1000/U\n",
      "Reading file vizualizing_simulation_data/bernard_cell_of_v2/1000/T\n",
      "Reading file vizualizing_simulation_data/bernard_cell_of_v2/1000/p\n"
     ]
    }
   ],
   "source": [
    "case = \"vizualizing_simulation_data/bernard_cell_of_v2/\"\n",
    "x, y, z = ff.readmesh(case)\n",
    "u, v, w = ff.readfield(case, \"1000\", \"U\")\n",
    "T = ff.readscalar(case, \"1000\", \"T\")\n",
    "p = ff.readscalar(case, \"1000\", \"p\")"
   ]
  },
  {
   "cell_type": "code",
   "execution_count": 48,
   "id": "04502e4b-708b-4629-9081-f2202cccf332",
   "metadata": {},
   "outputs": [
    {
     "data": {
      "text/plain": [
       "9.056004625065906e-05"
      ]
     },
     "execution_count": 48,
     "metadata": {},
     "output_type": "execute_result"
    }
   ],
   "source": [
    "U.max()"
   ]
  },
  {
   "cell_type": "markdown",
   "id": "13324ea3-6827-4311-88ac-66ce1d6f85bc",
   "metadata": {},
   "source": [
    "# Scalling unities to the non-dimensional range"
   ]
  },
  {
   "cell_type": "code",
   "execution_count": 72,
   "id": "b3a7c6f1-e5bb-4bfc-922b-23ae27d03112",
   "metadata": {},
   "outputs": [],
   "source": [
    "def transf_U(U):\n",
    "    return U/np.sqrt(g*beta*(T_bottom - T0)*L)\n",
    "\n",
    "def transf_T(T):\n",
    "    return (T-T0)/(T_bottom - T0)\n",
    "\n",
    "def transf_P(p):\n",
    "    return p/(rho*g*beta*(T_bottom - T0)*L)\n",
    "\n",
    "U = transf_U(u)\n",
    "V = transf_U(v)\n",
    "TT = transf_T(T)\n",
    "P = transf_P(p)\n",
    "\n",
    "fields = [U, V, P, TT]"
   ]
  },
  {
   "cell_type": "code",
   "execution_count": 57,
   "id": "0205b10b-bc48-47bb-8e62-960fbc99026f",
   "metadata": {},
   "outputs": [
    {
     "data": {
      "text/plain": [
       "0.9820000000000277"
      ]
     },
     "execution_count": 57,
     "metadata": {},
     "output_type": "execute_result"
    }
   ],
   "source": [
    "TT.max()"
   ]
  },
  {
   "cell_type": "code",
   "execution_count": 80,
   "id": "4382380e-8146-440f-8f21-7746acc30952",
   "metadata": {},
   "outputs": [
    {
     "data": {
      "text/plain": [
       "(array([1.17744871e-11, 7.01485626e-09, 8.23708898e-01, 1.76291095e-01]),\n",
       " array([8.49293895e+10, 1.42554596e+08, 1.21402112e+00, 5.67243628e+00]))"
      ]
     },
     "execution_count": 80,
     "metadata": {},
     "output_type": "execute_result"
    }
   ],
   "source": [
    "quantities = np.array([abs(f.mean()) for f in fields])\n",
    "\n",
    "total = sum(quantities)\n",
    "\n",
    "fractions = quantities/total\n",
    "\n",
    "weights = 1/fractions\n",
    "\n",
    "fractions, weights"
   ]
  },
  {
   "cell_type": "code",
   "execution_count": 74,
   "id": "fd1cc5ea-f722-455e-a018-46210fb4da65",
   "metadata": {},
   "outputs": [
    {
     "data": {
      "text/plain": [
       "([6.580206442647896e-08,\n",
       "  3.14487150193184e-05,\n",
       "  -2114.3325591661123,\n",
       "  0.09085588085539402],\n",
       " [6.464398861412147e-08,\n",
       "  3.089523700132567e-05,\n",
       "  -2077.121608146122,\n",
       "  0.08925687330204982])"
      ]
     },
     "execution_count": 74,
     "metadata": {},
     "output_type": "execute_result"
    }
   ],
   "source": [
    "[(f/f.max()).mean() for w,f in zip(weights, fields)], [(w*f).mean() for w,f in zip(weights, fields)]"
   ]
  },
  {
   "cell_type": "code",
   "execution_count": 79,
   "id": "3172be8a-ac6c-4a5a-8dad-eb97f94bba49",
   "metadata": {},
   "outputs": [
    {
     "data": {
      "text/plain": [
       "(0.00019716717635066255, -0.9081264016309887)"
      ]
     },
     "execution_count": 79,
     "metadata": {},
     "output_type": "execute_result"
    }
   ],
   "source": [
    "P.max(), P.min()"
   ]
  },
  {
   "cell_type": "code",
   "execution_count": 66,
   "id": "d868b5f2-4136-48eb-8313-0586aec5a3ca",
   "metadata": {},
   "outputs": [
    {
     "data": {
      "text/plain": [
       "array([1.08480578e+03, 8.70239111e+02, 1.00040796e-01, 4.98257689e+02])"
      ]
     },
     "execution_count": 66,
     "metadata": {},
     "output_type": "execute_result"
    }
   ],
   "source": []
  },
  {
   "cell_type": "code",
   "execution_count": 39,
   "id": "67e58b64-e1ae-4428-be8e-587c21561674",
   "metadata": {},
   "outputs": [
    {
     "data": {
      "text/plain": [
       "6.464398861412147e-08"
      ]
     },
     "execution_count": 39,
     "metadata": {},
     "output_type": "execute_result"
    }
   ],
   "source": [
    "(U*weights[0]).mean()"
   ]
  },
  {
   "cell_type": "code",
   "execution_count": 41,
   "id": "7c81c106-7b69-485d-9593-679d523eb4ec",
   "metadata": {},
   "outputs": [
    {
     "data": {
      "text/plain": [
       "5.959037997879842e-12"
      ]
     },
     "execution_count": 41,
     "metadata": {},
     "output_type": "execute_result"
    }
   ],
   "source": [
    "U.mean()"
   ]
  }
 ],
 "metadata": {
  "kernelspec": {
   "display_name": "Python 3 (ipykernel)",
   "language": "python",
   "name": "python3"
  },
  "language_info": {
   "codemirror_mode": {
    "name": "ipython",
    "version": 3
   },
   "file_extension": ".py",
   "mimetype": "text/x-python",
   "name": "python",
   "nbconvert_exporter": "python",
   "pygments_lexer": "ipython3",
   "version": "3.12.10"
  }
 },
 "nbformat": 4,
 "nbformat_minor": 5
}
